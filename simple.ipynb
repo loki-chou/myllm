{
 "cells": [
  {
   "cell_type": "code",
   "id": "040df4e9-60b0-4c6f-b3f1-fac8d84181b0",
   "metadata": {
    "ExecuteTime": {
     "end_time": "2024-06-08T14:57:34.090962Z",
     "start_time": "2024-06-08T14:57:34.087657Z"
    }
   },
   "source": [
    "import torch\n",
    "import torch.nn as nn\n",
    "import torch.nn.functional as F\n",
    "import os\n",
    "import tiktoken"
   ],
   "outputs": [],
   "execution_count": 13
  },
  {
   "metadata": {
    "ExecuteTime": {
     "end_time": "2024-06-08T14:57:34.812966Z",
     "start_time": "2024-06-08T14:57:34.809922Z"
    }
   },
   "cell_type": "code",
   "source": [
    "#超参数\n",
    "batch_size = 4\n",
    "context_length = 16\n",
    "d_model = 64\n",
    "num_heads = 4"
   ],
   "id": "a917f4bd1f89be21",
   "outputs": [],
   "execution_count": 14
  },
  {
   "cell_type": "code",
   "id": "83924573-25ae-45ad-aee3-e4195666a8ea",
   "metadata": {
    "ExecuteTime": {
     "end_time": "2024-06-08T14:57:35.718005Z",
     "start_time": "2024-06-08T14:57:35.662935Z"
    }
   },
   "source": [
    "# 指定文件夹路径\n",
    "folder_path = '/Users/loki/Downloads/文本素材/'\n",
    "\n",
    "# 遍历文件夹\n",
    "for filename in os.listdir(folder_path):\n",
    "    # 检查文件是否为.txt文件\n",
    "    if filename.endswith('.txt'):\n",
    "        # 构建完整文件路径\n",
    "        file_path = os.path.join(folder_path, filename)\n",
    "        \n",
    "        # 读取文件内容\n",
    "        with open(file_path, 'r', encoding='utf-8') as file:\n",
    "            content = file.read()\n",
    "            \n",
    "            # 打印或处理每个文件的内容\n",
    "            print(f'File: {filename}')\n",
    "            print(content[:10])\n",
    "            print('---')"
   ],
   "outputs": [
    {
     "name": "stdout",
     "output_type": "stream",
     "text": [
      "File: 大奉打更人.txt\n",
      "大奉打更人\n",
      "\n",
      "作者：\n",
      "---\n",
      "File: 从斗罗开始签到女神.txt\n",
      "从斗罗开始签到女神\n",
      "\n",
      "---\n",
      "File: 红楼梦.txt\n",
      "红楼梦\n",
      "\n",
      "作者：曹雪\n",
      "---\n",
      "File: 全球轮回：只有我知道剧情 2.txt\n",
      "全球轮回：只有我知道\n",
      "---\n",
      "File: 完美世界.txt\n",
      "完美世界\n",
      "\n",
      "作者：辰\n",
      "---\n",
      "File: 洪荒之功德99999999.txt\n",
      "洪荒之功德99999\n",
      "---\n"
     ]
    }
   ],
   "execution_count": 15
  },
  {
   "metadata": {
    "ExecuteTime": {
     "end_time": "2024-06-08T14:57:41.187239Z",
     "start_time": "2024-06-08T14:57:41.183402Z"
    }
   },
   "cell_type": "code",
   "source": "len(content)",
   "id": "2994416f8bd30e5f",
   "outputs": [
    {
     "data": {
      "text/plain": [
       "1708974"
      ]
     },
     "execution_count": 16,
     "metadata": {},
     "output_type": "execute_result"
    }
   ],
   "execution_count": 16
  },
  {
   "cell_type": "code",
   "id": "af9ffbcc-f9ff-4619-b6e7-0eaed70827c3",
   "metadata": {
    "ExecuteTime": {
     "end_time": "2024-06-08T14:56:05.056844Z",
     "start_time": "2024-06-08T14:56:05.054269Z"
    }
   },
   "source": "encoding = tiktoken.get_encoding(\"cl100k_base\")",
   "outputs": [],
   "execution_count": 9
  },
  {
   "metadata": {
    "ExecuteTime": {
     "end_time": "2024-06-08T14:56:06.412153Z",
     "start_time": "2024-06-08T14:56:05.819829Z"
    }
   },
   "cell_type": "code",
   "source": [
    "tokenized_content = encoding.encode(content)\n",
    "tokenized_content = torch.tensor(tokenized_content)\n",
    "max_token_length = tokenized_content.max().item()\n",
    "max_token_length"
   ],
   "id": "e628eb946ce3321e",
   "outputs": [
    {
     "data": {
      "text/plain": [
       "100207"
      ]
     },
     "execution_count": 10,
     "metadata": {},
     "output_type": "execute_result"
    }
   ],
   "execution_count": 10
  },
  {
   "metadata": {
    "ExecuteTime": {
     "end_time": "2024-06-07T14:57:38.068719Z",
     "start_time": "2024-06-07T14:57:38.066863Z"
    }
   },
   "cell_type": "code",
   "source": [
    "#切割数据集\n",
    "train_index = int(len(tokenized_content)*0.9)\n",
    "train_data = tokenized_content[:train_index]\n",
    "valid_data = tokenized_content[train_index:]"
   ],
   "id": "db7802e64187bc47",
   "outputs": [],
   "execution_count": 279
  },
  {
   "metadata": {
    "ExecuteTime": {
     "end_time": "2024-06-07T14:57:38.072500Z",
     "start_time": "2024-06-07T14:57:38.069746Z"
    }
   },
   "cell_type": "code",
   "source": "valid_data[:10]",
   "id": "4754879e76896437",
   "outputs": [
    {
     "data": {
      "text/plain": [
       "tensor([  111,  9039, 18184, 41920, 95598, 76208,  1811, 70277, 16175,   246])"
      ]
     },
     "execution_count": 280,
     "metadata": {},
     "output_type": "execute_result"
    }
   ],
   "execution_count": 280
  },
  {
   "metadata": {
    "ExecuteTime": {
     "end_time": "2024-06-07T14:57:38.075636Z",
     "start_time": "2024-06-07T14:57:38.073430Z"
    }
   },
   "cell_type": "code",
   "source": [
    "data = train_data\n",
    "idxs = torch.randint(len(data)-context_length, (batch_size,))\n",
    "x_batch = torch.stack([data[idx:idx+context_length] for idx in idxs])\n",
    "y_batch = torch.stack([data[idx+1:idx+context_length+1] for idx in idxs])"
   ],
   "id": "7a479b72b0b61675",
   "outputs": [],
   "execution_count": 281
  },
  {
   "metadata": {
    "ExecuteTime": {
     "end_time": "2024-06-07T14:57:38.078055Z",
     "start_time": "2024-06-07T14:57:38.076417Z"
    }
   },
   "cell_type": "code",
   "source": "import pandas as pd",
   "id": "b8489fffdd149f58",
   "outputs": [],
   "execution_count": 282
  },
  {
   "metadata": {
    "ExecuteTime": {
     "end_time": "2024-06-07T14:57:38.083187Z",
     "start_time": "2024-06-07T14:57:38.078764Z"
    }
   },
   "cell_type": "code",
   "source": "pd.DataFrame(x_batch.tolist())",
   "id": "6db76d241bc9722",
   "outputs": [
    {
     "data": {
      "text/plain": [
       "      0      1      2      3      4      5      6     7      8      9      10  \\\n",
       "0   3922  81258  21043  44388  91985   9554  29207   226    161     99    247   \n",
       "1  33565    111  20022    240  19000  44388    162   241    224  55038  55030   \n",
       "2  23187  53901  21990  33764  75293  43511  80578  3922  74245  50667  28037   \n",
       "3  72718  34547  56906   3490  30537   7261  46028  4996    231    239   7741   \n",
       "\n",
       "      11     12     13     14     15  \n",
       "0   3922  69636   3574    242   3922  \n",
       "1  17905  82696  82364  14276    236  \n",
       "2  76505  26892  27384  17792  18904  \n",
       "3    102  27384    161     99    244  "
      ],
      "text/html": [
       "<div>\n",
       "<style scoped>\n",
       "    .dataframe tbody tr th:only-of-type {\n",
       "        vertical-align: middle;\n",
       "    }\n",
       "\n",
       "    .dataframe tbody tr th {\n",
       "        vertical-align: top;\n",
       "    }\n",
       "\n",
       "    .dataframe thead th {\n",
       "        text-align: right;\n",
       "    }\n",
       "</style>\n",
       "<table border=\"1\" class=\"dataframe\">\n",
       "  <thead>\n",
       "    <tr style=\"text-align: right;\">\n",
       "      <th></th>\n",
       "      <th>0</th>\n",
       "      <th>1</th>\n",
       "      <th>2</th>\n",
       "      <th>3</th>\n",
       "      <th>4</th>\n",
       "      <th>5</th>\n",
       "      <th>6</th>\n",
       "      <th>7</th>\n",
       "      <th>8</th>\n",
       "      <th>9</th>\n",
       "      <th>10</th>\n",
       "      <th>11</th>\n",
       "      <th>12</th>\n",
       "      <th>13</th>\n",
       "      <th>14</th>\n",
       "      <th>15</th>\n",
       "    </tr>\n",
       "  </thead>\n",
       "  <tbody>\n",
       "    <tr>\n",
       "      <th>0</th>\n",
       "      <td>3922</td>\n",
       "      <td>81258</td>\n",
       "      <td>21043</td>\n",
       "      <td>44388</td>\n",
       "      <td>91985</td>\n",
       "      <td>9554</td>\n",
       "      <td>29207</td>\n",
       "      <td>226</td>\n",
       "      <td>161</td>\n",
       "      <td>99</td>\n",
       "      <td>247</td>\n",
       "      <td>3922</td>\n",
       "      <td>69636</td>\n",
       "      <td>3574</td>\n",
       "      <td>242</td>\n",
       "      <td>3922</td>\n",
       "    </tr>\n",
       "    <tr>\n",
       "      <th>1</th>\n",
       "      <td>33565</td>\n",
       "      <td>111</td>\n",
       "      <td>20022</td>\n",
       "      <td>240</td>\n",
       "      <td>19000</td>\n",
       "      <td>44388</td>\n",
       "      <td>162</td>\n",
       "      <td>241</td>\n",
       "      <td>224</td>\n",
       "      <td>55038</td>\n",
       "      <td>55030</td>\n",
       "      <td>17905</td>\n",
       "      <td>82696</td>\n",
       "      <td>82364</td>\n",
       "      <td>14276</td>\n",
       "      <td>236</td>\n",
       "    </tr>\n",
       "    <tr>\n",
       "      <th>2</th>\n",
       "      <td>23187</td>\n",
       "      <td>53901</td>\n",
       "      <td>21990</td>\n",
       "      <td>33764</td>\n",
       "      <td>75293</td>\n",
       "      <td>43511</td>\n",
       "      <td>80578</td>\n",
       "      <td>3922</td>\n",
       "      <td>74245</td>\n",
       "      <td>50667</td>\n",
       "      <td>28037</td>\n",
       "      <td>76505</td>\n",
       "      <td>26892</td>\n",
       "      <td>27384</td>\n",
       "      <td>17792</td>\n",
       "      <td>18904</td>\n",
       "    </tr>\n",
       "    <tr>\n",
       "      <th>3</th>\n",
       "      <td>72718</td>\n",
       "      <td>34547</td>\n",
       "      <td>56906</td>\n",
       "      <td>3490</td>\n",
       "      <td>30537</td>\n",
       "      <td>7261</td>\n",
       "      <td>46028</td>\n",
       "      <td>4996</td>\n",
       "      <td>231</td>\n",
       "      <td>239</td>\n",
       "      <td>7741</td>\n",
       "      <td>102</td>\n",
       "      <td>27384</td>\n",
       "      <td>161</td>\n",
       "      <td>99</td>\n",
       "      <td>244</td>\n",
       "    </tr>\n",
       "  </tbody>\n",
       "</table>\n",
       "</div>"
      ]
     },
     "execution_count": 283,
     "metadata": {},
     "output_type": "execute_result"
    }
   ],
   "execution_count": 283
  },
  {
   "metadata": {
    "ExecuteTime": {
     "end_time": "2024-06-07T14:57:38.153700Z",
     "start_time": "2024-06-07T14:57:38.083917Z"
    }
   },
   "cell_type": "code",
   "source": [
    "input_embed = nn.Embedding(max_token_length, d_model)\n",
    "x_batch_embed = input_embed(x_batch)\n",
    "y_batch_embed = input_embed(y_batch)"
   ],
   "id": "b05c0b6923e79241",
   "outputs": [],
   "execution_count": 284
  },
  {
   "metadata": {
    "ExecuteTime": {
     "end_time": "2024-06-07T14:57:38.160398Z",
     "start_time": "2024-06-07T14:57:38.156675Z"
    }
   },
   "cell_type": "code",
   "source": [
    "#位置编码\n",
    "import math\n",
    "position_embed = torch.zeros(context_length, d_model)\n",
    "position = torch.arange(0, context_length).unsqueeze (1)\n",
    "\n",
    "div_term = torch.exp(torch.arange(0, d_model, 2).float()) * (-math.log (10000.0) / d_model)\n",
    "position_embed[:, 0::2] = torch.sin(position * div_term)\n",
    "position_embed[:, 1::2] = torch.cos(position * div_term)\n",
    "position_embed = position_embed.unsqueeze(0).expand(batch_size, -1, -1)\n",
    "position_embed.shape"
   ],
   "id": "17eee2014014b56d",
   "outputs": [
    {
     "data": {
      "text/plain": [
       "torch.Size([4, 16, 64])"
      ]
     },
     "execution_count": 285,
     "metadata": {},
     "output_type": "execute_result"
    }
   ],
   "execution_count": 285
  },
  {
   "metadata": {
    "ExecuteTime": {
     "end_time": "2024-06-07T14:57:38.162836Z",
     "start_time": "2024-06-07T14:57:38.161104Z"
    }
   },
   "cell_type": "code",
   "source": [
    "x = x_batch_embed + position_embed\n",
    "y = y_batch_embed + position_embed"
   ],
   "id": "d5628e2a3ff801d0",
   "outputs": [],
   "execution_count": 286
  },
  {
   "metadata": {
    "ExecuteTime": {
     "end_time": "2024-06-07T14:57:38.166250Z",
     "start_time": "2024-06-07T14:57:38.163609Z"
    }
   },
   "cell_type": "code",
   "source": "x.shape,y.shape",
   "id": "5f2bfa0b087464d2",
   "outputs": [
    {
     "data": {
      "text/plain": [
       "(torch.Size([4, 16, 64]), torch.Size([4, 16, 64]))"
      ]
     },
     "execution_count": 287,
     "metadata": {},
     "output_type": "execute_result"
    }
   ],
   "execution_count": 287
  },
  {
   "metadata": {
    "ExecuteTime": {
     "end_time": "2024-06-07T14:57:38.170169Z",
     "start_time": "2024-06-07T14:57:38.167082Z"
    }
   },
   "cell_type": "code",
   "source": [
    "Wq = nn.Linear(d_model, d_model)\n",
    "Wk = nn.Linear(d_model, d_model)\n",
    "Wv = nn.Linear(d_model, d_model)\n",
    "\n",
    "Q = Wq(x)\n",
    "K = Wk(x)\n",
    "V = Wv(x)\n",
    "\n",
    "Q.shape"
   ],
   "id": "8b6493ae8f15b398",
   "outputs": [
    {
     "data": {
      "text/plain": [
       "torch.Size([4, 16, 64])"
      ]
     },
     "execution_count": 288,
     "metadata": {},
     "output_type": "execute_result"
    }
   ],
   "execution_count": 288
  },
  {
   "metadata": {
    "ExecuteTime": {
     "end_time": "2024-06-07T14:57:38.173864Z",
     "start_time": "2024-06-07T14:57:38.170853Z"
    }
   },
   "cell_type": "code",
   "source": [
    "#多头注意力\n",
    "Q = Q.reshape(batch_size, context_length, num_heads, d_model//num_heads).permute(0, 2, 1, 3)\n",
    "K = K.reshape(batch_size, context_length, num_heads, d_model//num_heads).permute(0, 2, 1, 3)\n",
    "V = V.reshape(batch_size, context_length, num_heads, d_model//num_heads).permute(0, 2, 1, 3)\n",
    "\n",
    "Q.shape"
   ],
   "id": "e11940e3126d0ca6",
   "outputs": [
    {
     "data": {
      "text/plain": [
       "torch.Size([4, 4, 16, 16])"
      ]
     },
     "execution_count": 289,
     "metadata": {},
     "output_type": "execute_result"
    }
   ],
   "execution_count": 289
  },
  {
   "metadata": {
    "ExecuteTime": {
     "end_time": "2024-06-07T14:57:38.177441Z",
     "start_time": "2024-06-07T14:57:38.174709Z"
    }
   },
   "cell_type": "code",
   "source": [
    "output = Q @ K.transpose(-2, -1)/math.sqrt(d_model//num_heads)\n",
    "output.shape"
   ],
   "id": "c039a8f8e130236f",
   "outputs": [
    {
     "data": {
      "text/plain": [
       "torch.Size([4, 4, 16, 16])"
      ]
     },
     "execution_count": 290,
     "metadata": {},
     "output_type": "execute_result"
    }
   ],
   "execution_count": 290
  },
  {
   "metadata": {
    "ExecuteTime": {
     "end_time": "2024-06-07T14:57:38.180569Z",
     "start_time": "2024-06-07T14:57:38.178346Z"
    }
   },
   "cell_type": "code",
   "source": [
    "#mask\n",
    "mask = torch.triu(torch.ones(context_length, context_length),1).bool()\n",
    "output = output.masked_fill(mask, float('-inf'))"
   ],
   "id": "c80aec5b00f6800b",
   "outputs": [],
   "execution_count": 291
  },
  {
   "metadata": {
    "ExecuteTime": {
     "end_time": "2024-06-07T14:57:38.188895Z",
     "start_time": "2024-06-07T14:57:38.181433Z"
    }
   },
   "cell_type": "code",
   "source": [
    "#softmax 计算\n",
    "attention_score = torch.softmax(output, -1)\n",
    "pd.DataFrame(attention_score[0,0].tolist())"
   ],
   "id": "8efddd0174aea278",
   "outputs": [
    {
     "data": {
      "text/plain": [
       "          0         1         2         3         4         5         6   \\\n",
       "0   1.000000  0.000000  0.000000  0.000000  0.000000  0.000000  0.000000   \n",
       "1   0.676941  0.323059  0.000000  0.000000  0.000000  0.000000  0.000000   \n",
       "2   0.194312  0.360013  0.445674  0.000000  0.000000  0.000000  0.000000   \n",
       "3   0.379475  0.178120  0.111570  0.330835  0.000000  0.000000  0.000000   \n",
       "4   0.276202  0.105721  0.228930  0.210585  0.178563  0.000000  0.000000   \n",
       "5   0.100399  0.162897  0.173075  0.171999  0.158764  0.232867  0.000000   \n",
       "6   0.202224  0.068139  0.117970  0.084156  0.067519  0.210206  0.249784   \n",
       "7   0.085517  0.072135  0.155761  0.152048  0.160089  0.207345  0.111607   \n",
       "8   0.060191  0.204960  0.089771  0.047630  0.072273  0.068249  0.122740   \n",
       "9   0.109734  0.060257  0.220894  0.036199  0.090397  0.096802  0.119268   \n",
       "10  0.072216  0.126363  0.102459  0.072312  0.158657  0.083872  0.055160   \n",
       "11  0.041975  0.109141  0.044558  0.030401  0.033669  0.093655  0.138997   \n",
       "12  0.048154  0.065947  0.104856  0.066754  0.064355  0.052299  0.029438   \n",
       "13  0.052894  0.058678  0.054184  0.108522  0.053756  0.078768  0.054309   \n",
       "14  0.026870  0.161185  0.039902  0.066597  0.020469  0.020820  0.064451   \n",
       "15  0.051939  0.067858  0.044397  0.033010  0.051693  0.114162  0.080234   \n",
       "\n",
       "          7         8         9         10        11        12        13  \\\n",
       "0   0.000000  0.000000  0.000000  0.000000  0.000000  0.000000  0.000000   \n",
       "1   0.000000  0.000000  0.000000  0.000000  0.000000  0.000000  0.000000   \n",
       "2   0.000000  0.000000  0.000000  0.000000  0.000000  0.000000  0.000000   \n",
       "3   0.000000  0.000000  0.000000  0.000000  0.000000  0.000000  0.000000   \n",
       "4   0.000000  0.000000  0.000000  0.000000  0.000000  0.000000  0.000000   \n",
       "5   0.000000  0.000000  0.000000  0.000000  0.000000  0.000000  0.000000   \n",
       "6   0.000000  0.000000  0.000000  0.000000  0.000000  0.000000  0.000000   \n",
       "7   0.055498  0.000000  0.000000  0.000000  0.000000  0.000000  0.000000   \n",
       "8   0.272737  0.061448  0.000000  0.000000  0.000000  0.000000  0.000000   \n",
       "9   0.044920  0.092359  0.129170  0.000000  0.000000  0.000000  0.000000   \n",
       "10  0.091113  0.049352  0.102593  0.085904  0.000000  0.000000  0.000000   \n",
       "11  0.252091  0.070717  0.090192  0.057463  0.037140  0.000000  0.000000   \n",
       "12  0.192982  0.042877  0.080101  0.040886  0.054014  0.157336  0.000000   \n",
       "13  0.045644  0.074871  0.062858  0.114639  0.052519  0.138845  0.049512   \n",
       "14  0.112357  0.058223  0.051634  0.107381  0.009282  0.133912  0.082646   \n",
       "15  0.098419  0.052334  0.065127  0.042297  0.072961  0.025012  0.088558   \n",
       "\n",
       "          14        15  \n",
       "0   0.000000  0.000000  \n",
       "1   0.000000  0.000000  \n",
       "2   0.000000  0.000000  \n",
       "3   0.000000  0.000000  \n",
       "4   0.000000  0.000000  \n",
       "5   0.000000  0.000000  \n",
       "6   0.000000  0.000000  \n",
       "7   0.000000  0.000000  \n",
       "8   0.000000  0.000000  \n",
       "9   0.000000  0.000000  \n",
       "10  0.000000  0.000000  \n",
       "11  0.000000  0.000000  \n",
       "12  0.000000  0.000000  \n",
       "13  0.000000  0.000000  \n",
       "14  0.044274  0.000000  \n",
       "15  0.040704  0.071294  "
      ],
      "text/html": [
       "<div>\n",
       "<style scoped>\n",
       "    .dataframe tbody tr th:only-of-type {\n",
       "        vertical-align: middle;\n",
       "    }\n",
       "\n",
       "    .dataframe tbody tr th {\n",
       "        vertical-align: top;\n",
       "    }\n",
       "\n",
       "    .dataframe thead th {\n",
       "        text-align: right;\n",
       "    }\n",
       "</style>\n",
       "<table border=\"1\" class=\"dataframe\">\n",
       "  <thead>\n",
       "    <tr style=\"text-align: right;\">\n",
       "      <th></th>\n",
       "      <th>0</th>\n",
       "      <th>1</th>\n",
       "      <th>2</th>\n",
       "      <th>3</th>\n",
       "      <th>4</th>\n",
       "      <th>5</th>\n",
       "      <th>6</th>\n",
       "      <th>7</th>\n",
       "      <th>8</th>\n",
       "      <th>9</th>\n",
       "      <th>10</th>\n",
       "      <th>11</th>\n",
       "      <th>12</th>\n",
       "      <th>13</th>\n",
       "      <th>14</th>\n",
       "      <th>15</th>\n",
       "    </tr>\n",
       "  </thead>\n",
       "  <tbody>\n",
       "    <tr>\n",
       "      <th>0</th>\n",
       "      <td>1.000000</td>\n",
       "      <td>0.000000</td>\n",
       "      <td>0.000000</td>\n",
       "      <td>0.000000</td>\n",
       "      <td>0.000000</td>\n",
       "      <td>0.000000</td>\n",
       "      <td>0.000000</td>\n",
       "      <td>0.000000</td>\n",
       "      <td>0.000000</td>\n",
       "      <td>0.000000</td>\n",
       "      <td>0.000000</td>\n",
       "      <td>0.000000</td>\n",
       "      <td>0.000000</td>\n",
       "      <td>0.000000</td>\n",
       "      <td>0.000000</td>\n",
       "      <td>0.000000</td>\n",
       "    </tr>\n",
       "    <tr>\n",
       "      <th>1</th>\n",
       "      <td>0.676941</td>\n",
       "      <td>0.323059</td>\n",
       "      <td>0.000000</td>\n",
       "      <td>0.000000</td>\n",
       "      <td>0.000000</td>\n",
       "      <td>0.000000</td>\n",
       "      <td>0.000000</td>\n",
       "      <td>0.000000</td>\n",
       "      <td>0.000000</td>\n",
       "      <td>0.000000</td>\n",
       "      <td>0.000000</td>\n",
       "      <td>0.000000</td>\n",
       "      <td>0.000000</td>\n",
       "      <td>0.000000</td>\n",
       "      <td>0.000000</td>\n",
       "      <td>0.000000</td>\n",
       "    </tr>\n",
       "    <tr>\n",
       "      <th>2</th>\n",
       "      <td>0.194312</td>\n",
       "      <td>0.360013</td>\n",
       "      <td>0.445674</td>\n",
       "      <td>0.000000</td>\n",
       "      <td>0.000000</td>\n",
       "      <td>0.000000</td>\n",
       "      <td>0.000000</td>\n",
       "      <td>0.000000</td>\n",
       "      <td>0.000000</td>\n",
       "      <td>0.000000</td>\n",
       "      <td>0.000000</td>\n",
       "      <td>0.000000</td>\n",
       "      <td>0.000000</td>\n",
       "      <td>0.000000</td>\n",
       "      <td>0.000000</td>\n",
       "      <td>0.000000</td>\n",
       "    </tr>\n",
       "    <tr>\n",
       "      <th>3</th>\n",
       "      <td>0.379475</td>\n",
       "      <td>0.178120</td>\n",
       "      <td>0.111570</td>\n",
       "      <td>0.330835</td>\n",
       "      <td>0.000000</td>\n",
       "      <td>0.000000</td>\n",
       "      <td>0.000000</td>\n",
       "      <td>0.000000</td>\n",
       "      <td>0.000000</td>\n",
       "      <td>0.000000</td>\n",
       "      <td>0.000000</td>\n",
       "      <td>0.000000</td>\n",
       "      <td>0.000000</td>\n",
       "      <td>0.000000</td>\n",
       "      <td>0.000000</td>\n",
       "      <td>0.000000</td>\n",
       "    </tr>\n",
       "    <tr>\n",
       "      <th>4</th>\n",
       "      <td>0.276202</td>\n",
       "      <td>0.105721</td>\n",
       "      <td>0.228930</td>\n",
       "      <td>0.210585</td>\n",
       "      <td>0.178563</td>\n",
       "      <td>0.000000</td>\n",
       "      <td>0.000000</td>\n",
       "      <td>0.000000</td>\n",
       "      <td>0.000000</td>\n",
       "      <td>0.000000</td>\n",
       "      <td>0.000000</td>\n",
       "      <td>0.000000</td>\n",
       "      <td>0.000000</td>\n",
       "      <td>0.000000</td>\n",
       "      <td>0.000000</td>\n",
       "      <td>0.000000</td>\n",
       "    </tr>\n",
       "    <tr>\n",
       "      <th>5</th>\n",
       "      <td>0.100399</td>\n",
       "      <td>0.162897</td>\n",
       "      <td>0.173075</td>\n",
       "      <td>0.171999</td>\n",
       "      <td>0.158764</td>\n",
       "      <td>0.232867</td>\n",
       "      <td>0.000000</td>\n",
       "      <td>0.000000</td>\n",
       "      <td>0.000000</td>\n",
       "      <td>0.000000</td>\n",
       "      <td>0.000000</td>\n",
       "      <td>0.000000</td>\n",
       "      <td>0.000000</td>\n",
       "      <td>0.000000</td>\n",
       "      <td>0.000000</td>\n",
       "      <td>0.000000</td>\n",
       "    </tr>\n",
       "    <tr>\n",
       "      <th>6</th>\n",
       "      <td>0.202224</td>\n",
       "      <td>0.068139</td>\n",
       "      <td>0.117970</td>\n",
       "      <td>0.084156</td>\n",
       "      <td>0.067519</td>\n",
       "      <td>0.210206</td>\n",
       "      <td>0.249784</td>\n",
       "      <td>0.000000</td>\n",
       "      <td>0.000000</td>\n",
       "      <td>0.000000</td>\n",
       "      <td>0.000000</td>\n",
       "      <td>0.000000</td>\n",
       "      <td>0.000000</td>\n",
       "      <td>0.000000</td>\n",
       "      <td>0.000000</td>\n",
       "      <td>0.000000</td>\n",
       "    </tr>\n",
       "    <tr>\n",
       "      <th>7</th>\n",
       "      <td>0.085517</td>\n",
       "      <td>0.072135</td>\n",
       "      <td>0.155761</td>\n",
       "      <td>0.152048</td>\n",
       "      <td>0.160089</td>\n",
       "      <td>0.207345</td>\n",
       "      <td>0.111607</td>\n",
       "      <td>0.055498</td>\n",
       "      <td>0.000000</td>\n",
       "      <td>0.000000</td>\n",
       "      <td>0.000000</td>\n",
       "      <td>0.000000</td>\n",
       "      <td>0.000000</td>\n",
       "      <td>0.000000</td>\n",
       "      <td>0.000000</td>\n",
       "      <td>0.000000</td>\n",
       "    </tr>\n",
       "    <tr>\n",
       "      <th>8</th>\n",
       "      <td>0.060191</td>\n",
       "      <td>0.204960</td>\n",
       "      <td>0.089771</td>\n",
       "      <td>0.047630</td>\n",
       "      <td>0.072273</td>\n",
       "      <td>0.068249</td>\n",
       "      <td>0.122740</td>\n",
       "      <td>0.272737</td>\n",
       "      <td>0.061448</td>\n",
       "      <td>0.000000</td>\n",
       "      <td>0.000000</td>\n",
       "      <td>0.000000</td>\n",
       "      <td>0.000000</td>\n",
       "      <td>0.000000</td>\n",
       "      <td>0.000000</td>\n",
       "      <td>0.000000</td>\n",
       "    </tr>\n",
       "    <tr>\n",
       "      <th>9</th>\n",
       "      <td>0.109734</td>\n",
       "      <td>0.060257</td>\n",
       "      <td>0.220894</td>\n",
       "      <td>0.036199</td>\n",
       "      <td>0.090397</td>\n",
       "      <td>0.096802</td>\n",
       "      <td>0.119268</td>\n",
       "      <td>0.044920</td>\n",
       "      <td>0.092359</td>\n",
       "      <td>0.129170</td>\n",
       "      <td>0.000000</td>\n",
       "      <td>0.000000</td>\n",
       "      <td>0.000000</td>\n",
       "      <td>0.000000</td>\n",
       "      <td>0.000000</td>\n",
       "      <td>0.000000</td>\n",
       "    </tr>\n",
       "    <tr>\n",
       "      <th>10</th>\n",
       "      <td>0.072216</td>\n",
       "      <td>0.126363</td>\n",
       "      <td>0.102459</td>\n",
       "      <td>0.072312</td>\n",
       "      <td>0.158657</td>\n",
       "      <td>0.083872</td>\n",
       "      <td>0.055160</td>\n",
       "      <td>0.091113</td>\n",
       "      <td>0.049352</td>\n",
       "      <td>0.102593</td>\n",
       "      <td>0.085904</td>\n",
       "      <td>0.000000</td>\n",
       "      <td>0.000000</td>\n",
       "      <td>0.000000</td>\n",
       "      <td>0.000000</td>\n",
       "      <td>0.000000</td>\n",
       "    </tr>\n",
       "    <tr>\n",
       "      <th>11</th>\n",
       "      <td>0.041975</td>\n",
       "      <td>0.109141</td>\n",
       "      <td>0.044558</td>\n",
       "      <td>0.030401</td>\n",
       "      <td>0.033669</td>\n",
       "      <td>0.093655</td>\n",
       "      <td>0.138997</td>\n",
       "      <td>0.252091</td>\n",
       "      <td>0.070717</td>\n",
       "      <td>0.090192</td>\n",
       "      <td>0.057463</td>\n",
       "      <td>0.037140</td>\n",
       "      <td>0.000000</td>\n",
       "      <td>0.000000</td>\n",
       "      <td>0.000000</td>\n",
       "      <td>0.000000</td>\n",
       "    </tr>\n",
       "    <tr>\n",
       "      <th>12</th>\n",
       "      <td>0.048154</td>\n",
       "      <td>0.065947</td>\n",
       "      <td>0.104856</td>\n",
       "      <td>0.066754</td>\n",
       "      <td>0.064355</td>\n",
       "      <td>0.052299</td>\n",
       "      <td>0.029438</td>\n",
       "      <td>0.192982</td>\n",
       "      <td>0.042877</td>\n",
       "      <td>0.080101</td>\n",
       "      <td>0.040886</td>\n",
       "      <td>0.054014</td>\n",
       "      <td>0.157336</td>\n",
       "      <td>0.000000</td>\n",
       "      <td>0.000000</td>\n",
       "      <td>0.000000</td>\n",
       "    </tr>\n",
       "    <tr>\n",
       "      <th>13</th>\n",
       "      <td>0.052894</td>\n",
       "      <td>0.058678</td>\n",
       "      <td>0.054184</td>\n",
       "      <td>0.108522</td>\n",
       "      <td>0.053756</td>\n",
       "      <td>0.078768</td>\n",
       "      <td>0.054309</td>\n",
       "      <td>0.045644</td>\n",
       "      <td>0.074871</td>\n",
       "      <td>0.062858</td>\n",
       "      <td>0.114639</td>\n",
       "      <td>0.052519</td>\n",
       "      <td>0.138845</td>\n",
       "      <td>0.049512</td>\n",
       "      <td>0.000000</td>\n",
       "      <td>0.000000</td>\n",
       "    </tr>\n",
       "    <tr>\n",
       "      <th>14</th>\n",
       "      <td>0.026870</td>\n",
       "      <td>0.161185</td>\n",
       "      <td>0.039902</td>\n",
       "      <td>0.066597</td>\n",
       "      <td>0.020469</td>\n",
       "      <td>0.020820</td>\n",
       "      <td>0.064451</td>\n",
       "      <td>0.112357</td>\n",
       "      <td>0.058223</td>\n",
       "      <td>0.051634</td>\n",
       "      <td>0.107381</td>\n",
       "      <td>0.009282</td>\n",
       "      <td>0.133912</td>\n",
       "      <td>0.082646</td>\n",
       "      <td>0.044274</td>\n",
       "      <td>0.000000</td>\n",
       "    </tr>\n",
       "    <tr>\n",
       "      <th>15</th>\n",
       "      <td>0.051939</td>\n",
       "      <td>0.067858</td>\n",
       "      <td>0.044397</td>\n",
       "      <td>0.033010</td>\n",
       "      <td>0.051693</td>\n",
       "      <td>0.114162</td>\n",
       "      <td>0.080234</td>\n",
       "      <td>0.098419</td>\n",
       "      <td>0.052334</td>\n",
       "      <td>0.065127</td>\n",
       "      <td>0.042297</td>\n",
       "      <td>0.072961</td>\n",
       "      <td>0.025012</td>\n",
       "      <td>0.088558</td>\n",
       "      <td>0.040704</td>\n",
       "      <td>0.071294</td>\n",
       "    </tr>\n",
       "  </tbody>\n",
       "</table>\n",
       "</div>"
      ]
     },
     "execution_count": 292,
     "metadata": {},
     "output_type": "execute_result"
    }
   ],
   "execution_count": 292
  },
  {
   "metadata": {
    "ExecuteTime": {
     "end_time": "2024-06-07T14:57:38.191484Z",
     "start_time": "2024-06-07T14:57:38.189774Z"
    }
   },
   "cell_type": "code",
   "source": "A = attention_score @ V",
   "id": "18bc3996cbdc401f",
   "outputs": [],
   "execution_count": 293
  },
  {
   "metadata": {
    "ExecuteTime": {
     "end_time": "2024-06-07T14:57:38.194417Z",
     "start_time": "2024-06-07T14:57:38.192349Z"
    }
   },
   "cell_type": "code",
   "source": "A = A.transpose(1,2).reshape(batch_size, -1, d_model)",
   "id": "97b680d10de4add5",
   "outputs": [],
   "execution_count": 294
  },
  {
   "metadata": {
    "ExecuteTime": {
     "end_time": "2024-06-07T14:57:38.197564Z",
     "start_time": "2024-06-07T14:57:38.195552Z"
    }
   },
   "cell_type": "code",
   "source": [
    "Wo = nn.Linear(d_model, d_model)\n",
    "output = Wo(A)"
   ],
   "id": "d2954c25aaeeb1de",
   "outputs": [],
   "execution_count": 295
  },
  {
   "metadata": {
    "ExecuteTime": {
     "end_time": "2024-06-07T14:57:38.200526Z",
     "start_time": "2024-06-07T14:57:38.198438Z"
    }
   },
   "cell_type": "code",
   "source": "output = output + x",
   "id": "9cd0f4164401e1a0",
   "outputs": [],
   "execution_count": 296
  },
  {
   "metadata": {
    "ExecuteTime": {
     "end_time": "2024-06-07T14:57:38.203176Z",
     "start_time": "2024-06-07T14:57:38.201157Z"
    }
   },
   "cell_type": "code",
   "source": [
    "#层归一化\n",
    "layer_norm = nn.LayerNorm(d_model)\n",
    "layer_norm_output = layer_norm(output)"
   ],
   "id": "1c7ff5e361174d62",
   "outputs": [],
   "execution_count": 297
  },
  {
   "metadata": {
    "ExecuteTime": {
     "end_time": "2024-06-07T14:57:38.206654Z",
     "start_time": "2024-06-07T14:57:38.203890Z"
    }
   },
   "cell_type": "code",
   "source": [
    "#前馈网络\n",
    "output = nn.Linear(d_model, d_model*4)(layer_norm_output)\n",
    "output = nn.ReLU()(output)\n",
    "output = nn.Linear(d_model*4, d_model)(output)"
   ],
   "id": "55d85daba713b92d",
   "outputs": [],
   "execution_count": 298
  },
  {
   "metadata": {
    "ExecuteTime": {
     "end_time": "2024-06-07T14:57:38.209195Z",
     "start_time": "2024-06-07T14:57:38.207394Z"
    }
   },
   "cell_type": "code",
   "source": [
    "#残差链接\n",
    "output = output + layer_norm_output"
   ],
   "id": "de5d6538646fbc12",
   "outputs": [],
   "execution_count": 299
  },
  {
   "metadata": {
    "ExecuteTime": {
     "end_time": "2024-06-07T14:57:38.237348Z",
     "start_time": "2024-06-07T14:57:38.209904Z"
    }
   },
   "cell_type": "code",
   "source": [
    "#最终线性变换\n",
    "output = nn.Linear(d_model, max_token_length)(output)\n",
    "logit = F.log_softmax(output, -1)"
   ],
   "id": "88c16e0828e9d682",
   "outputs": [],
   "execution_count": 300
  },
  {
   "metadata": {
    "ExecuteTime": {
     "end_time": "2024-06-07T14:57:38.240208Z",
     "start_time": "2024-06-07T14:57:38.238054Z"
    }
   },
   "cell_type": "code",
   "source": [
    "#获取预测值\n",
    "predicted_token = torch.argmax(logit[0,0]).item()"
   ],
   "id": "bac1a5524ec077b3",
   "outputs": [],
   "execution_count": 301
  },
  {
   "metadata": {
    "ExecuteTime": {
     "end_time": "2024-06-07T14:57:38.242873Z",
     "start_time": "2024-06-07T14:57:38.240909Z"
    }
   },
   "cell_type": "code",
   "source": "predicted_token",
   "id": "79859406a5816c3d",
   "outputs": [
    {
     "data": {
      "text/plain": [
       "84300"
      ]
     },
     "execution_count": 302,
     "metadata": {},
     "output_type": "execute_result"
    }
   ],
   "execution_count": 302
  },
  {
   "metadata": {
    "ExecuteTime": {
     "end_time": "2024-06-07T14:57:44.126750Z",
     "start_time": "2024-06-07T14:57:44.124520Z"
    }
   },
   "cell_type": "code",
   "source": "encoding.decode([84300])",
   "id": "335b57118889ed05",
   "outputs": [
    {
     "data": {
      "text/plain": [
       "' canyon'"
      ]
     },
     "execution_count": 305,
     "metadata": {},
     "output_type": "execute_result"
    }
   ],
   "execution_count": 305
  },
  {
   "metadata": {
    "ExecuteTime": {
     "end_time": "2024-06-07T14:57:38.252790Z",
     "start_time": "2024-06-07T14:57:38.250540Z"
    }
   },
   "cell_type": "code",
   "source": "output.shape",
   "id": "5c0b5295ef721835",
   "outputs": [
    {
     "data": {
      "text/plain": [
       "torch.Size([4, 16, 100207])"
      ]
     },
     "execution_count": 304,
     "metadata": {},
     "output_type": "execute_result"
    }
   ],
   "execution_count": 304
  },
  {
   "metadata": {
    "ExecuteTime": {
     "end_time": "2024-06-07T14:57:38.255120Z",
     "start_time": "2024-06-07T14:57:38.253571Z"
    }
   },
   "cell_type": "code",
   "source": "",
   "id": "1abda3df76c13a29",
   "outputs": [],
   "execution_count": 304
  },
  {
   "metadata": {
    "ExecuteTime": {
     "end_time": "2024-06-07T14:57:38.257236Z",
     "start_time": "2024-06-07T14:57:38.255868Z"
    }
   },
   "cell_type": "code",
   "source": "",
   "id": "99c0ac703c3e769c",
   "outputs": [],
   "execution_count": 304
  }
 ],
 "metadata": {
  "kernelspec": {
   "display_name": "Python 3 (ipykernel)",
   "language": "python",
   "name": "python3"
  },
  "language_info": {
   "codemirror_mode": {
    "name": "ipython",
    "version": 3
   },
   "file_extension": ".py",
   "mimetype": "text/x-python",
   "name": "python",
   "nbconvert_exporter": "python",
   "pygments_lexer": "ipython3",
   "version": "3.11.2"
  }
 },
 "nbformat": 4,
 "nbformat_minor": 5
}
